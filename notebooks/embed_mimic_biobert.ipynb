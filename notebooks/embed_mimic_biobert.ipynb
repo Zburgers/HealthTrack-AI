{
 "cells": [
  {
   "cell_type": "markdown",
   "id": "5455a92b",
   "metadata": {},
   "source": [
    "🔹 Step 1: Import Libraries"
   ]
  },
  {
   "cell_type": "code",
   "execution_count": 6,
   "id": "89426704",
   "metadata": {},
   "outputs": [
    {
     "name": "stdout",
     "output_type": "stream",
     "text": [
      "Current working directory: d:\\Hustle\\Projects\\AIA Google\\healthtrack\\HealthTrack-AI\\notebooks\n",
      "Files in current directory: ['embed_mimic_biobert.ipynb']\n"
     ]
    },
    {
     "name": "stderr",
     "output_type": "stream",
     "text": [
      "C:\\Users\\ekagr\\AppData\\Roaming\\Python\\Python313\\site-packages\\tqdm\\auto.py:21: TqdmWarning: IProgress not found. Please update jupyter and ipywidgets. See https://ipywidgets.readthedocs.io/en/stable/user_install.html\n",
      "  from .autonotebook import tqdm as notebook_tqdm\n"
     ]
    }
   ],
   "source": [
    "from google.cloud import bigquery\n",
    "import os\n",
    "\n",
    "# Debug: Check for shadowing files/folders\n",
    "print(\"Current working directory:\", os.getcwd())\n",
    "print(\"Files in current directory:\", os.listdir())\n",
    "\n",
    "import torch\n",
    "import numpy as np\n",
    "from sentence_transformers import SentenceTransformer\n",
    "from pymongo import MongoClient\n",
    "from tqdm import tqdm\n",
    "import pandas as pd\n"
   ]
  },
  {
   "cell_type": "code",
   "execution_count": 1,
   "id": "4b1a8b86",
   "metadata": {},
   "outputs": [
    {
     "name": "stderr",
     "output_type": "stream",
     "text": [
      "Your browser has been opened to visit:\n",
      "\n",
      "    https://accounts.google.com/o/oauth2/auth?response_type=code&client_id=764086051850-6qr4p6gpi6hn506pt8ejuq83di341hur.apps.googleusercontent.com&redirect_uri=http%3A%2F%2Flocalhost%3A8085%2F&scope=openid+https%3A%2F%2Fwww.googleapis.com%2Fauth%2Fuserinfo.email+https%3A%2F%2Fwww.googleapis.com%2Fauth%2Fcloud-platform+https%3A%2F%2Fwww.googleapis.com%2Fauth%2Fsqlservice.login&state=QkR7fablvY6OPTc1whE8mqEmvVmiWU&access_type=offline&code_challenge=xYGC_zgt5ELil1Om2DSawwh7zvZiJIygPuMtTW7GCWQ&code_challenge_method=S256\n",
      "\n",
      "\n",
      "Credentials saved to file: [C:\\Users\\ekagr\\AppData\\Roaming\\gcloud\\application_default_credentials.json]\n",
      "\n",
      "These credentials will be used by any library that requests Application Default Credentials (ADC).\n",
      "\n",
      "Quota project \"healthtrack-hack\" was added to ADC which can be used by Google client libraries for billing and quota. Note that some services may still bill the project owning the resource.\n"
     ]
    }
   ],
   "source": [
    "# gcloud login  \n",
    "!gcloud auth application-default login"
   ]
  },
  {
   "cell_type": "markdown",
   "id": "6f9cb28f",
   "metadata": {},
   "source": [
    "🔹 Step 2: Set Credentials & Connect to BigQuery"
   ]
  },
  {
   "cell_type": "code",
   "execution_count": 23,
   "id": "dd3b50b5",
   "metadata": {},
   "outputs": [],
   "source": [
    "cred = r\"C:\\Users\\ekagr\\AppData\\Roaming\\gcloud\\application_default_credentials.json\"\n",
    "# Set this if you haven't already authenticated locally\n",
    "os.environ[\"GOOGLE_APPLICATION_CREDENTIALS\"] = cred\n",
    "\n",
    "bq_client = bigquery.Client()\n",
    "TABLE_ID = \"healthtrack-hack.healthtrack_data.case_embeddings\"\n",
    "\n"
   ]
  },
  {
   "cell_type": "markdown",
   "id": "ed5a7e69",
   "metadata": {},
   "source": [
    "🔹 Step 3: Load Data from BigQuery"
   ]
  },
  {
   "cell_type": "code",
   "execution_count": 8,
   "id": "4f093d0c",
   "metadata": {},
   "outputs": [
    {
     "name": "stderr",
     "output_type": "stream",
     "text": [
      "C:\\Users\\ekagr\\AppData\\Roaming\\Python\\Python313\\site-packages\\google\\cloud\\bigquery\\table.py:1957: UserWarning: BigQuery Storage module not found, fetch data with the REST endpoint instead.\n",
      "  warnings.warn(\n"
     ]
    },
    {
     "data": {
      "text/html": [
       "<div>\n",
       "<style scoped>\n",
       "    .dataframe tbody tr th:only-of-type {\n",
       "        vertical-align: middle;\n",
       "    }\n",
       "\n",
       "    .dataframe tbody tr th {\n",
       "        vertical-align: top;\n",
       "    }\n",
       "\n",
       "    .dataframe thead th {\n",
       "        text-align: right;\n",
       "    }\n",
       "</style>\n",
       "<table border=\"1\" class=\"dataframe\">\n",
       "  <thead>\n",
       "    <tr style=\"text-align: right;\">\n",
       "      <th></th>\n",
       "      <th>note_id</th>\n",
       "      <th>subject_id</th>\n",
       "      <th>hadm_id</th>\n",
       "      <th>age</th>\n",
       "      <th>sex</th>\n",
       "      <th>admittime</th>\n",
       "      <th>dischtime</th>\n",
       "      <th>charttime</th>\n",
       "      <th>note</th>\n",
       "      <th>temp</th>\n",
       "      <th>bp</th>\n",
       "      <th>hr</th>\n",
       "      <th>spo2</th>\n",
       "      <th>rr</th>\n",
       "      <th>icd_tags</th>\n",
       "    </tr>\n",
       "  </thead>\n",
       "  <tbody>\n",
       "    <tr>\n",
       "      <th>0</th>\n",
       "      <td>14371636-DS-14</td>\n",
       "      <td>14371636</td>\n",
       "      <td>22341970</td>\n",
       "      <td>18</td>\n",
       "      <td>M</td>\n",
       "      <td>2165-08-15 15:28:00</td>\n",
       "      <td>2165-08-16 15:30:00</td>\n",
       "      <td>2165-08-16 00:00:00+00:00</td>\n",
       "      <td>\\nName:  ___                   Unit No:   ___...</td>\n",
       "      <td>NaN</td>\n",
       "      <td>None</td>\n",
       "      <td>NaN</td>\n",
       "      <td>NaN</td>\n",
       "      <td>NaN</td>\n",
       "      <td>[{'code': '49392', 'label': 'Asthma, unspecifi...</td>\n",
       "    </tr>\n",
       "    <tr>\n",
       "      <th>1</th>\n",
       "      <td>11044044-DS-3</td>\n",
       "      <td>11044044</td>\n",
       "      <td>22240600</td>\n",
       "      <td>18</td>\n",
       "      <td>F</td>\n",
       "      <td>2159-10-16 04:58:00</td>\n",
       "      <td>2159-10-18 18:03:00</td>\n",
       "      <td>2159-10-18 00:00:00+00:00</td>\n",
       "      <td>\\nName:  ___                   Unit No:   ___...</td>\n",
       "      <td>NaN</td>\n",
       "      <td>None</td>\n",
       "      <td>NaN</td>\n",
       "      <td>NaN</td>\n",
       "      <td>NaN</td>\n",
       "      <td>[{'code': '09954', 'label': 'Other venereal di...</td>\n",
       "    </tr>\n",
       "    <tr>\n",
       "      <th>2</th>\n",
       "      <td>15414917-DS-15</td>\n",
       "      <td>15414917</td>\n",
       "      <td>22802282</td>\n",
       "      <td>18</td>\n",
       "      <td>M</td>\n",
       "      <td>2169-11-17 11:15:00</td>\n",
       "      <td>2169-11-18 15:11:00</td>\n",
       "      <td>2169-11-18 00:00:00+00:00</td>\n",
       "      <td>\\nName:  ___                     Unit No:   _...</td>\n",
       "      <td>NaN</td>\n",
       "      <td>None</td>\n",
       "      <td>NaN</td>\n",
       "      <td>NaN</td>\n",
       "      <td>NaN</td>\n",
       "      <td>[{'code': '72210', 'label': 'Displacement of l...</td>\n",
       "    </tr>\n",
       "    <tr>\n",
       "      <th>3</th>\n",
       "      <td>16286332-DS-12</td>\n",
       "      <td>16286332</td>\n",
       "      <td>22423640</td>\n",
       "      <td>18</td>\n",
       "      <td>F</td>\n",
       "      <td>2126-10-30 11:59:00</td>\n",
       "      <td>2126-11-02 14:45:00</td>\n",
       "      <td>2126-11-02 00:00:00+00:00</td>\n",
       "      <td>\\nName:  ___                 Unit No:   ___\\n...</td>\n",
       "      <td>NaN</td>\n",
       "      <td>None</td>\n",
       "      <td>NaN</td>\n",
       "      <td>NaN</td>\n",
       "      <td>NaN</td>\n",
       "      <td>[{'code': 'F329', 'label': 'Major depressive d...</td>\n",
       "    </tr>\n",
       "    <tr>\n",
       "      <th>4</th>\n",
       "      <td>19076973-DS-9</td>\n",
       "      <td>19076973</td>\n",
       "      <td>25794363</td>\n",
       "      <td>18</td>\n",
       "      <td>F</td>\n",
       "      <td>2170-09-12 13:39:00</td>\n",
       "      <td>2170-09-16 19:00:00</td>\n",
       "      <td>2170-09-16 00:00:00+00:00</td>\n",
       "      <td>\\nName:  ___                    Unit No:   __...</td>\n",
       "      <td>10.0</td>\n",
       "      <td>None</td>\n",
       "      <td>NaN</td>\n",
       "      <td>22.0</td>\n",
       "      <td>NaN</td>\n",
       "      <td>[{'code': 'O42912', 'label': 'Preterm prematur...</td>\n",
       "    </tr>\n",
       "  </tbody>\n",
       "</table>\n",
       "</div>"
      ],
      "text/plain": [
       "          note_id  subject_id   hadm_id  age sex           admittime  \\\n",
       "0  14371636-DS-14    14371636  22341970   18   M 2165-08-15 15:28:00   \n",
       "1   11044044-DS-3    11044044  22240600   18   F 2159-10-16 04:58:00   \n",
       "2  15414917-DS-15    15414917  22802282   18   M 2169-11-17 11:15:00   \n",
       "3  16286332-DS-12    16286332  22423640   18   F 2126-10-30 11:59:00   \n",
       "4   19076973-DS-9    19076973  25794363   18   F 2170-09-12 13:39:00   \n",
       "\n",
       "            dischtime                 charttime  \\\n",
       "0 2165-08-16 15:30:00 2165-08-16 00:00:00+00:00   \n",
       "1 2159-10-18 18:03:00 2159-10-18 00:00:00+00:00   \n",
       "2 2169-11-18 15:11:00 2169-11-18 00:00:00+00:00   \n",
       "3 2126-11-02 14:45:00 2126-11-02 00:00:00+00:00   \n",
       "4 2170-09-16 19:00:00 2170-09-16 00:00:00+00:00   \n",
       "\n",
       "                                                note  temp    bp  hr  spo2  \\\n",
       "0   \\nName:  ___                   Unit No:   ___...   NaN  None NaN   NaN   \n",
       "1   \\nName:  ___                   Unit No:   ___...   NaN  None NaN   NaN   \n",
       "2   \\nName:  ___                     Unit No:   _...   NaN  None NaN   NaN   \n",
       "3   \\nName:  ___                 Unit No:   ___\\n...   NaN  None NaN   NaN   \n",
       "4   \\nName:  ___                    Unit No:   __...  10.0  None NaN  22.0   \n",
       "\n",
       "   rr                                           icd_tags  \n",
       "0 NaN  [{'code': '49392', 'label': 'Asthma, unspecifi...  \n",
       "1 NaN  [{'code': '09954', 'label': 'Other venereal di...  \n",
       "2 NaN  [{'code': '72210', 'label': 'Displacement of l...  \n",
       "3 NaN  [{'code': 'F329', 'label': 'Major depressive d...  \n",
       "4 NaN  [{'code': 'O42912', 'label': 'Preterm prematur...  "
      ]
     },
     "execution_count": 8,
     "metadata": {},
     "output_type": "execute_result"
    }
   ],
   "source": [
    "\n",
    "query = f\"SELECT * FROM `{TABLE_ID}` WHERE note IS NOT NULL LIMIT 10000\"\n",
    "df = bq_client.query(query).to_dataframe()\n",
    "df = df.dropna(subset=[\"note\"])  # Safety check\n",
    "df.head()\n"
   ]
  },
  {
   "cell_type": "markdown",
   "id": "70346f71",
   "metadata": {},
   "source": [
    "🔹 Step 4: Load BioBERT Model for Embedding"
   ]
  },
  {
   "cell_type": "code",
   "execution_count": 9,
   "id": "93ef4ade",
   "metadata": {},
   "outputs": [],
   "source": [
    "model = SentenceTransformer(\"pritamdeka/BioBERT-mnli-snli-scinli-scitail-mednli-stsb\")  # HuggingFace\n"
   ]
  },
  {
   "cell_type": "markdown",
   "id": "e3518a58",
   "metadata": {},
   "source": [
    "🔹 Step 5: Generate Embeddings"
   ]
  },
  {
   "cell_type": "code",
   "execution_count": 10,
   "id": "b0aae130",
   "metadata": {},
   "outputs": [
    {
     "name": "stderr",
     "output_type": "stream",
     "text": [
      "Embedding: 100%|██████████| 10000/10000 [39:21<00:00,  4.24it/s] \n"
     ]
    }
   ],
   "source": [
    "\n",
    "def embed_text(text):\n",
    "    return model.encode(text, show_progress_bar=False).tolist()\n",
    "\n",
    "tqdm.pandas(desc=\"Embedding\")\n",
    "df[\"embedding\"] = df[\"note\"].progress_apply(embed_text)\n"
   ]
  },
  {
   "cell_type": "markdown",
   "id": "a4094996",
   "metadata": {},
   "source": [
    "🔹 Step 6: Connect to MongoDB Atlas"
   ]
  },
  {
   "cell_type": "code",
   "execution_count": 11,
   "id": "37b58cdf",
   "metadata": {},
   "outputs": [
    {
     "name": "stdout",
     "output_type": "stream",
     "text": [
      "Pinged your deployment. You successfully connected to MongoDB!\n"
     ]
    }
   ],
   "source": [
    "from dotenv import load_dotenv\n",
    "import os\n",
    "from pymongo import MongoClient\n",
    "\n",
    "load_dotenv()\n",
    "\n",
    "MONGODBENV = os.getenv(\"MONGODBPW\")\n",
    "uri = \"mongodb+srv://naki:<db_password>@cluster0.hrnm8fq.mongodb.net/?retryWrites=true&w=majority&appName=Cluster0\"\n",
    "MONGO_URI = uri.replace(\"<db_password>\", MONGODBENV)  # Replace with your actual password\n",
    "client = MongoClient(MONGO_URI)\n",
    "\n",
    "# Send a ping to confirm a successful connection\n",
    "try:\n",
    "    client.admin.command('ping')\n",
    "    print(\"Pinged your deployment. You successfully connected to MongoDB!\")\n",
    "except Exception as e:\n",
    "    print(e)\n",
    "collection = client.healthtrack.case_embeddings  # or whatever DB/collection you want"
   ]
  },
  {
   "cell_type": "code",
   "execution_count": 45,
   "id": "79761b97",
   "metadata": {},
   "outputs": [
    {
     "data": {
      "text/plain": [
       "0     \\nName:  ___                   Unit No:   ___...\n",
       "1     \\nName:  ___                   Unit No:   ___...\n",
       "2     \\nName:  ___                     Unit No:   _...\n",
       "3     \\nName:  ___                 Unit No:   ___\\n...\n",
       "4     \\nName:  ___                    Unit No:   __...\n",
       "Name: note, dtype: object"
      ]
     },
     "execution_count": 45,
     "metadata": {},
     "output_type": "execute_result"
    }
   ],
   "source": [
    "df['note'].head()\n"
   ]
  },
  {
   "cell_type": "markdown",
   "id": "2d864ac4",
   "metadata": {},
   "source": [
    "🔹 Step 7: Format and Insert into MongoDB"
   ]
  },
  {
   "cell_type": "code",
   "execution_count": 43,
   "id": "c276f4e6",
   "metadata": {},
   "outputs": [
    {
     "name": "stderr",
     "output_type": "stream",
     "text": [
      "100%|██████████| 10000/10000 [00:01<00:00, 8217.48it/s]\n",
      "\n"
     ]
    },
    {
     "name": "stdout",
     "output_type": "stream",
     "text": [
      "✅ Successfully inserted 10000 records into MongoDB.\n"
     ]
    }
   ],
   "source": [
    "import pandas as pd\n",
    "import tqdm\n",
    "import json\n",
    "\n",
    "def to_record(row):\n",
    "    tags = row.get(\"icd_tags\", [])\n",
    "    # Ensure tags is a list of dicts\n",
    "    if tags is None or (isinstance(tags, float) and pd.isna(tags)):\n",
    "        tags = []\n",
    "    elif isinstance(tags, str):\n",
    "        import ast\n",
    "        try:\n",
    "            tags = ast.literal_eval(tags)\n",
    "        except Exception:\n",
    "            tags = []\n",
    "    elif not isinstance(tags, list):\n",
    "        tags = list(tags) if hasattr(tags, '__iter__') and not isinstance(tags, dict) else [tags]\n",
    "    icd_codes = [t.get(\"code\") for t in tags if isinstance(t, dict) and t.get(\"code\")]\n",
    "    icd_labels = [t.get(\"label\") for t in tags if isinstance(t, dict) and t.get(\"label\")]\n",
    "\n",
    "    return {\n",
    "        \"subject_id\": int(row[\"subject_id\"]) if pd.notnull(row[\"subject_id\"]) else None,\n",
    "        \"hadm_id\": int(row[\"hadm_id\"]) if pd.notnull(row[\"hadm_id\"]) else None,\n",
    "        \"age\": int(row[\"age\"]) if pd.notnull(row[\"age\"]) else None,\n",
    "        \"sex\": row[\"sex\"],\n",
    "        \"note\": row[\"note\"],\n",
    "        \"embedding\": row[\"embedding\"],\n",
    "        \"vitals\": {\n",
    "            \"temp\": row.get(\"temp\"),\n",
    "            \"bp\": row.get(\"bp\"),\n",
    "            \"hr\": row.get(\"hr\"),\n",
    "            \"spo2\": row.get(\"spo2\"),\n",
    "            \"rr\": row.get(\"rr\"),\n",
    "        },\n",
    "        \"icd\": icd_codes,\n",
    "        \"icd_label\": icd_labels\n",
    "    }\n",
    "\n",
    "records = [to_record(row) for _, row in tqdm.tqdm(df.iterrows(), total=len(df))]\n",
    "\n",
    "# with open(\"case_embeddings_dataset.json\", \"w\", encoding=\"utf-8\") as f:\n",
    "#     json.dump(records, f, ensure_ascii=False, indent=2)\n",
    "# print(f\"✅ Saved {len(records)} records to case_embeddings_dataset.json\")\n",
    "\n",
    "# Insert records into MongoDB\n",
    "if records:\n",
    "    try:\n",
    "        collection.insert_many(records)\n",
    "        print(f\"✅ Successfully inserted {len(records)} records into MongoDB.\")\n",
    "    except Exception as e:\n",
    "        print(f\"❌ Error inserting records into MongoDB: {e}\")\n"
   ]
  },
  {
   "cell_type": "markdown",
   "id": "34049a72",
   "metadata": {},
   "source": [
    "✅ 🔍 Vector Indexing in MongoDB Atlas (Once)"
   ]
  },
  {
   "cell_type": "code",
   "execution_count": null,
   "id": "2e02952d",
   "metadata": {},
   "outputs": [],
   "source": [
    "{\n",
    "  \"createIndexes\": \"case_embeddings\",\n",
    "  \"indexes\": [\n",
    "    {\n",
    "      \"name\": \"embedding_vector_index\",\n",
    "      \"key\": {\n",
    "        \"embedding\": \"cosmosSearch\"\n",
    "      },\n",
    "      \"type\": \"vectorSearch\",\n",
    "      \"options\": {\n",
    "        \"dimensions\": 768,\n",
    "        \"similarity\": \"cosine\"\n",
    "      }\n",
    "    }\n",
    "  ]\n",
    "}\n"
   ]
  }
 ],
 "metadata": {
  "kernelspec": {
   "display_name": "Python 3",
   "language": "python",
   "name": "python3"
  },
  "language_info": {
   "codemirror_mode": {
    "name": "ipython",
    "version": 3
   },
   "file_extension": ".py",
   "mimetype": "text/x-python",
   "name": "python",
   "nbconvert_exporter": "python",
   "pygments_lexer": "ipython3",
   "version": "3.13.4"
  }
 },
 "nbformat": 4,
 "nbformat_minor": 5
}
